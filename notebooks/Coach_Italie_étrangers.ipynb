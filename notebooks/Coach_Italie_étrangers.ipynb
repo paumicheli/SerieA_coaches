{
 "cells": [
  {
   "cell_type": "markdown",
   "id": "1d176b57-c864-42dc-9142-2e4822c413ae",
   "metadata": {},
   "source": [
    "## Analyse bivariée : Coachs nationaux vs clubs étrangers\n",
    "\n",
    "**Problématique :**  \n",
    "> *Les coachs entraînent-ils plus souvent dans leur propre pays ?*\n",
    "\n",
    "Nous allons croiser deux variables :\n",
    "- la nationalité du coach (Italie ou non)\n",
    "- le pays (ou “League”) du club coaché\n",
    "\n",
    "L’objectif est d’identifier s’il existe un lien entre ces deux variables.  \n",
    "Pour cela, nous utiliserons un **tableau croisé** et un **test du Chi²**.\n",
    "\n",
    "Cette analyse permet d’observer la **mobilité internationale** des coachs dans leur carrière.\n"
   ]
  },
  {
   "cell_type": "markdown",
   "id": "8eea0583-af5d-41e0-a22a-43d1578beba5",
   "metadata": {},
   "source": [
    "## Requête SQL – Extraction des coachs et des clubs\n",
    "\n",
    "Nous avons utilisé cette requête SQL pour extraire les données nécessaires à notre analyse :\n",
    "\n",
    "```sql\n",
    "SELECT \n",
    "    c.name AS coachName,\n",
    "    c.nationality,\n",
    "    c.nationality2,\n",
    "    t.Name AS teamName,\n",
    "    t.League AS teamCountry\n",
    "FROM mandates m\n",
    "JOIN coaches c ON m.coach_qid = c.wikidata_id\n",
    "JOIN teams t ON m.team_qid = t.Qid\n",
    "WHERE t.League IS NOT NULL \n",
    "  AND (c.nationality IS NOT NULL OR c.nationality2 IS NOT NULL)\n"
   ]
  },
  {
   "cell_type": "markdown",
   "id": "52900cb3-6bed-4c06-a43d-561b0f0f1d0c",
   "metadata": {
    "execution": {
     "iopub.execute_input": "2025-06-23T23:42:12.777424Z",
     "iopub.status.busy": "2025-06-23T23:42:12.775395Z",
     "iopub.status.idle": "2025-06-23T23:42:12.797775Z",
     "shell.execute_reply": "2025-06-23T23:42:12.794872Z",
     "shell.execute_reply.started": "2025-06-23T23:42:12.777268Z"
    }
   },
   "source": [
    "## Chargement du fichier CSV\n",
    "\n",
    "Nous chargeons les données extraites de SQLiteStudio contenant :\n",
    "- le nom du coach\n",
    "- ses deux nationalités\n",
    "- le club qu’il a coaché\n",
    "- le pays (ou \"league\") de ce club\n",
    "\n",
    "Nous allons ensuite créer deux variables catégorielles :\n",
    "- `coach_is_italian` : True si une des nationalités est italienne\n",
    "- `club_is_italian` : True si le pays du club est l’Italie\n"
   ]
  },
  {
   "cell_type": "code",
   "execution_count": 3,
   "id": "bcf74993-c7f4-4f11-84f5-d22565b096b7",
   "metadata": {
    "execution": {
     "iopub.execute_input": "2025-06-24T11:52:38.839623Z",
     "iopub.status.busy": "2025-06-24T11:52:38.836446Z",
     "iopub.status.idle": "2025-06-24T11:52:38.906700Z",
     "shell.execute_reply": "2025-06-24T11:52:38.904480Z",
     "shell.execute_reply.started": "2025-06-24T11:52:38.839525Z"
    }
   },
   "outputs": [
    {
     "data": {
      "text/html": [
       "<div>\n",
       "<style scoped>\n",
       "    .dataframe tbody tr th:only-of-type {\n",
       "        vertical-align: middle;\n",
       "    }\n",
       "\n",
       "    .dataframe tbody tr th {\n",
       "        vertical-align: top;\n",
       "    }\n",
       "\n",
       "    .dataframe thead th {\n",
       "        text-align: right;\n",
       "    }\n",
       "</style>\n",
       "<table border=\"1\" class=\"dataframe\">\n",
       "  <thead>\n",
       "    <tr style=\"text-align: right;\">\n",
       "      <th></th>\n",
       "      <th>coachName</th>\n",
       "      <th>nationality</th>\n",
       "      <th>nationality2</th>\n",
       "      <th>teamName</th>\n",
       "      <th>teamCountry</th>\n",
       "      <th>coach_is_italian</th>\n",
       "      <th>club_is_italian</th>\n",
       "    </tr>\n",
       "  </thead>\n",
       "  <tbody>\n",
       "    <tr>\n",
       "      <th>0</th>\n",
       "      <td>Dino Zoff</td>\n",
       "      <td>Italy</td>\n",
       "      <td>nan</td>\n",
       "      <td>Juventus FC</td>\n",
       "      <td>Italy</td>\n",
       "      <td>True</td>\n",
       "      <td>True</td>\n",
       "    </tr>\n",
       "    <tr>\n",
       "      <th>1</th>\n",
       "      <td>Dino Zoff</td>\n",
       "      <td>Italy</td>\n",
       "      <td>nan</td>\n",
       "      <td>ACF Fiorentina</td>\n",
       "      <td>Italy</td>\n",
       "      <td>True</td>\n",
       "      <td>True</td>\n",
       "    </tr>\n",
       "    <tr>\n",
       "      <th>2</th>\n",
       "      <td>Dino Zoff</td>\n",
       "      <td>Italy</td>\n",
       "      <td>nan</td>\n",
       "      <td>SS Lazio</td>\n",
       "      <td>Italy</td>\n",
       "      <td>True</td>\n",
       "      <td>True</td>\n",
       "    </tr>\n",
       "    <tr>\n",
       "      <th>3</th>\n",
       "      <td>Dino Zoff</td>\n",
       "      <td>Italy</td>\n",
       "      <td>nan</td>\n",
       "      <td>SS Lazio</td>\n",
       "      <td>Italy</td>\n",
       "      <td>True</td>\n",
       "      <td>True</td>\n",
       "    </tr>\n",
       "    <tr>\n",
       "      <th>4</th>\n",
       "      <td>Dino Zoff</td>\n",
       "      <td>Italy</td>\n",
       "      <td>nan</td>\n",
       "      <td>SS Lazio</td>\n",
       "      <td>Italy</td>\n",
       "      <td>True</td>\n",
       "      <td>True</td>\n",
       "    </tr>\n",
       "  </tbody>\n",
       "</table>\n",
       "</div>"
      ],
      "text/plain": [
       "   coachName nationality nationality2        teamName teamCountry  \\\n",
       "0  Dino Zoff       Italy          nan     Juventus FC       Italy   \n",
       "1  Dino Zoff       Italy          nan  ACF Fiorentina       Italy   \n",
       "2  Dino Zoff       Italy          nan        SS Lazio       Italy   \n",
       "3  Dino Zoff       Italy          nan        SS Lazio       Italy   \n",
       "4  Dino Zoff       Italy          nan        SS Lazio       Italy   \n",
       "\n",
       "   coach_is_italian  club_is_italian  \n",
       "0              True             True  \n",
       "1              True             True  \n",
       "2              True             True  \n",
       "3              True             True  \n",
       "4              True             True  "
      ]
     },
     "execution_count": 3,
     "metadata": {},
     "output_type": "execute_result"
    }
   ],
   "source": [
    "import pandas as pd\n",
    "\n",
    "df = pd.read_csv(\"coach_vs_country.csv\")\n",
    "\n",
    "# Nettoyage des chaînes\n",
    "df[\"nationality\"] = df[\"nationality\"].astype(str).str.strip()\n",
    "df[\"nationality2\"] = df[\"nationality2\"].astype(str).str.strip()\n",
    "df[\"teamCountry\"] = df[\"teamCountry\"].astype(str).str.strip()\n",
    "\n",
    "# le coach est-il italien ?\n",
    "df[\"coach_is_italian\"] = df.apply(\n",
    "    lambda row: \"Italy\" in [row[\"nationality\"], row[\"nationality2\"]],\n",
    "    axis=1\n",
    ")\n",
    "\n",
    "# le club est-il italien ?\n",
    "df[\"club_is_italian\"] = df[\"teamCountry\"] == \"Italy\"\n",
    "\n",
    "df.head()\n"
   ]
  },
  {
   "cell_type": "markdown",
   "id": "9e6121c5-ea08-4626-a968-62fdb4ab1166",
   "metadata": {},
   "source": [
    "## Analyse croisée : coachs italiens vs clubs italiens\n",
    "\n",
    "Nous allons construire un tableau croisé pour observer la relation entre :\n",
    "- la nationalité du coach (italien ou non)\n",
    "- le pays du club (italien ou non)\n",
    "\n",
    "Nous appliquerons ensuite un **test du Chi²** pour tester l’indépendance statistique entre ces deux variables.\n"
   ]
  },
  {
   "cell_type": "code",
   "execution_count": 5,
   "id": "c0daafb3-5d53-4b2a-a276-61ca8678aa5b",
   "metadata": {
    "execution": {
     "iopub.execute_input": "2025-06-24T11:53:40.040199Z",
     "iopub.status.busy": "2025-06-24T11:53:40.036978Z",
     "iopub.status.idle": "2025-06-24T11:53:40.077392Z",
     "shell.execute_reply": "2025-06-24T11:53:40.075419Z",
     "shell.execute_reply.started": "2025-06-24T11:53:40.039969Z"
    }
   },
   "outputs": [
    {
     "name": "stdout",
     "output_type": "stream",
     "text": [
      " Tableau croisé :\n",
      "\n",
      "club_is_italian   False  True \n",
      "coach_is_italian              \n",
      "False               209     88\n",
      "True                112    506\n",
      "\n",
      " Résultats du test du Chi² :\n",
      "Statistique de test : 238.15\n",
      "p-value : 0.0000\n",
      "Degrés de liberté : 1\n"
     ]
    }
   ],
   "source": [
    "from scipy.stats import chi2_contingency\n",
    "import seaborn as sns\n",
    "import matplotlib.pyplot as plt\n",
    "\n",
    "# Tableau croisé\n",
    "contingency = pd.crosstab(df[\"coach_is_italian\"], df[\"club_is_italian\"])\n",
    "print(\" Tableau croisé :\\n\")\n",
    "print(contingency)\n",
    "\n",
    "# Chi²\n",
    "chi2, p, dof, expected = chi2_contingency(contingency)\n",
    "\n",
    "print(\"\\n Résultats du test du Chi² :\")\n",
    "print(f\"Statistique de test : {chi2:.2f}\")\n",
    "print(f\"p-value : {p:.4f}\")\n",
    "print(f\"Degrés de liberté : {dof}\")\n"
   ]
  },
  {
   "cell_type": "markdown",
   "id": "b6f24557-e7de-4479-9107-bfd307a4121e",
   "metadata": {
    "execution": {
     "iopub.execute_input": "2025-06-24T00:03:57.220091Z",
     "iopub.status.busy": "2025-06-24T00:03:57.219380Z",
     "iopub.status.idle": "2025-06-24T00:03:57.235729Z",
     "shell.execute_reply": "2025-06-24T00:03:57.233423Z",
     "shell.execute_reply.started": "2025-06-24T00:03:57.220012Z"
    }
   },
   "source": [
    "## Conclusion de l’analyse\n",
    "\n",
    "Le test du **Chi²** appliqué à la relation entre la **nationalité du coach** et le **pays du club coaché** donne les résultats suivants :\n",
    "\n",
    "- **Statistique du test :** 238.15  \n",
    "- **p-value :** < 0.0001  \n",
    "- **Degrés de liberté :** 1\n",
    "\n",
    "---\n",
    "\n",
    "### Interprétation :\n",
    "\n",
    "La p-value est **très inférieure à 0.05**, ce qui signifie que l'on peut **rejeter l’hypothèse d’indépendance** entre les deux variables.\n",
    "\n",
    "Autrement dit, **la nationalité du coach influence significativement la probabilité qu’il entraîne dans son propre pays.**\n",
    "\n",
    "Cela est également visible dans le tableau croisé :\n",
    "\n",
    "- Parmi les **coachs italiens**, 506 mandats (soit environ **82%**) concernent des clubs italiens.\n",
    "- Parmi les **coachs étrangers**, seulement 88 mandats (soit environ **30%**) concernent des clubs italiens.\n",
    "\n",
    "---\n",
    "\n",
    "### Limites de l’analyse :\n",
    "\n",
    "Cette conclusion doit être interprétée avec prudence, car notre analyse présente plusieurs biais importants :\n",
    "\n",
    "- **Population restreinte :** nous analysons uniquement des coachs ayant **entraîné en Serie A**, ce qui **exclut** :\n",
    "  - les coachs italiens n’ayant **jamais** travaillé en Serie A\n",
    "  - les étrangers n’ayant **jamais** entraîné en Italie\n",
    "- **Mobilité sous-estimée :** un coach étranger dans notre échantillon a nécessairement **déjà exercé en Italie**, ce qui réduit artificiellement sa mobilité apparente.\n",
    "- **Comptage par mandat et non par individu :** un coach peut apparaître plusieurs fois s’il a eu plusieurs mandats, ce qui surpondère les carrières longues.\n",
    "- **Manque de complétude des données Wikidata :** certains mandats, notamment à l’étranger ou dans des clubs moins connus, peuvent être absents.\n",
    "\n",
    "---\n",
    "\n",
    "### Conclusion :\n",
    "\n",
    "Même si l’analyse montre une **forte corrélation** entre la nationalité et le pays du club, elle ne reflète qu’une **vision partielle** du marché du coaching.  \n",
    "Il serait intéressant de reproduire cette analyse avec des données plus complètes (UEFA, Transfermarkt) pour une vision globale de la mobilité.\n"
   ]
  },
  {
   "cell_type": "code",
   "execution_count": null,
   "id": "20677457-eb1d-402b-ae5b-e25ffd1f34fe",
   "metadata": {},
   "outputs": [],
   "source": []
  }
 ],
 "metadata": {
  "kernelspec": {
   "display_name": "Python3",
   "language": "python",
   "name": "python3"
  },
  "language_info": {
   "codemirror_mode": {
    "name": "ipython",
    "version": 3
   },
   "file_extension": ".py",
   "mimetype": "text/x-python",
   "name": "python",
   "nbconvert_exporter": "python",
   "pygments_lexer": "ipython3",
   "version": "3.12.5"
  }
 },
 "nbformat": 4,
 "nbformat_minor": 5
}
