{
 "cells": [
  {
   "cell_type": "markdown",
   "id": "002530c7-729b-47e0-b567-114f052b81ac",
   "metadata": {},
   "source": [
    "## Problématique 4 – Avoir joué dans un club augmente-t-il les chances d’y entraîner ?\n",
    "\n",
    "### Objectif :\n",
    "\n",
    "Nous cherchons à savoir si un coach ayant été joueur d’un club augmente ses chances d’en devenir plus tard l’entraîneur.\n",
    "\n",
    "Plutôt que de comparer tous les clubs indistinctement, nous nous concentrons ici sur les **20 clubs de Serie A lors de la saison 2024-2025**.  \n",
    "Pour chaque coach, et pour chacun de ces clubs :\n",
    "\n",
    "- A-t-il **joué** dans ce club au cours de sa carrière ?\n",
    "- A-t-il **entraîné** ce club ?\n",
    "\n",
    "Cela permet d’établir un **tableau croisé** (2x2) :\n",
    "\n",
    "|               | A coaché le club | N’a pas coaché |\n",
    "|---------------|------------------|----------------|\n",
    "| A joué        | ?                | ?              |\n",
    "| N’a pas joué  | ?                | ?              |\n",
    "\n",
    "Nous utiliserons un **test du Chi²** pour vérifier s’il existe une **relation significative** entre le fait d’avoir joué dans un club et le fait de l’avoir entraîné plus tard.\n"
   ]
  },
  {
   "cell_type": "markdown",
   "id": "c11aa0fc-56d4-43c6-a56a-87c4bc8f8bad",
   "metadata": {
    "execution": {
     "iopub.execute_input": "2025-06-24T10:53:45.348036Z",
     "iopub.status.busy": "2025-06-24T10:53:45.347095Z",
     "iopub.status.idle": "2025-06-24T10:53:45.371281Z",
     "shell.execute_reply": "2025-06-24T10:53:45.368010Z",
     "shell.execute_reply.started": "2025-06-24T10:53:45.347959Z"
    }
   },
   "source": [
    "### Requête SQL utilisée\n",
    "\n",
    "Pour obtenir les informations nécessaires à notre analyse, nous avons effectué la requête suivante sur notre base de données SQLite :\n",
    "\n",
    "```sql\n",
    "WITH serieA_2024_teams AS (\n",
    "  SELECT id FROM teams\n",
    "  WHERE name IN (\n",
    "    'SSC Napoli', 'Inter Milan', 'Juventus FC', 'Atalanta BC', 'A.S. Roma', 'ACF Fiorentina', 'SS Lazio', 'AC Milan',\n",
    "    'Bologna F.C. 1909', 'Torino FC', 'Como 1907', 'Udinese Calcio', 'Genoa CFC', 'Hellas Verona FC',\n",
    "    'Cagliari Calcio', 'Parma Calcio 1913', 'US Lecce', 'Empoli FC', 'Venezia F.C.', 'AC Monza'\n",
    "  )\n",
    "),\n",
    "played AS (\n",
    "  SELECT DISTINCT coach_id, team_id FROM player_mandates\n",
    "  WHERE team_id IN (SELECT id FROM serieA_2024_teams)\n",
    "),\n",
    "coached AS (\n",
    "  SELECT DISTINCT coach_id, team_id FROM mandates\n",
    "  WHERE team_id IN (SELECT id FROM serieA_2024_teams)\n",
    ")\n",
    "SELECT\n",
    "  CASE WHEN p.coach_id IS NOT NULL THEN 1 ELSE 0 END AS played_there,\n",
    "  CASE WHEN c.coach_id IS NOT NULL THEN 1 ELSE 0 END AS coached_there,\n",
    "  COUNT(*) AS count\n",
    "FROM (\n",
    "  SELECT coach_id, team_id FROM played\n",
    "  UNION\n",
    "  SELECT coach_id, team_id FROM coached\n",
    ") AS all_pairs\n",
    "LEFT JOIN played p ON all_pairs.coach_id = p.coach_id AND all_pairs.team_id = p.team_id\n",
    "LEFT JOIN coached c ON all_pairs.coach_id = c.coach_id AND all_pairs.team_id = c.team_id\n",
    "GROUP BY played_there, coached_there;\n"
   ]
  },
  {
   "cell_type": "markdown",
   "id": "78c4ca6e-8b2d-43b1-936f-eb4ea6897043",
   "metadata": {},
   "source": [
    "### Résultats de la requête\n",
    "\n",
    "Voici le tableau de contingence obtenu :\n",
    "\n",
    "| A joué | A coaché | Nombre d’observations |\n",
    "|--------|----------|------------------------|\n",
    "| Non    | Non      | 4483                   |\n",
    "| Non    | Oui      | 234                    |\n",
    "| Oui    | Non      | 403                    |\n",
    "| Oui    | Oui      | 93                     |\n",
    "\n",
    "Ce tableau est la base de notre test du **Chi²**, afin d’évaluer si avoir été joueur dans un club est associé de manière significative au fait d’y devenir entraîneur.\n"
   ]
  },
  {
   "cell_type": "code",
   "execution_count": 16,
   "id": "8e409b40-bbfc-42a6-b5f0-cf1d7d5fb5b8",
   "metadata": {
    "execution": {
     "iopub.execute_input": "2025-06-24T12:03:35.815315Z",
     "iopub.status.busy": "2025-06-24T12:03:35.812640Z",
     "iopub.status.idle": "2025-06-24T12:03:35.844823Z",
     "shell.execute_reply": "2025-06-24T12:03:35.841914Z",
     "shell.execute_reply.started": "2025-06-24T12:03:35.815204Z"
    }
   },
   "outputs": [
    {
     "name": "stdout",
     "output_type": "stream",
     "text": [
      " Statistique du test : 142.81\n",
      " p-value : 0.0\n",
      " Degrés de liberté : 1\n",
      "\n",
      " Tableau des valeurs attendues :\n",
      "               Coaché   Pas coaché\n",
      "Joué       31.112987   464.887013\n",
      "Pas joué  295.887013  4421.112987\n"
     ]
    }
   ],
   "source": [
    "import pandas as pd\n",
    "import scipy.stats as stats\n",
    "\n",
    "# Tableau de contingence\n",
    "data = [[93, 403], [234, 4483]]\n",
    "df = pd.DataFrame(data, columns=[\"Coaché\", \"Pas coaché\"], index=[\"Joué\", \"Pas joué\"])\n",
    "\n",
    "# Chi²\n",
    "chi2, p, dof, expected = stats.chi2_contingency(df)\n",
    "\n",
    "print(\" Statistique du test :\", round(chi2, 2))\n",
    "print(\" p-value :\", round(p, 4))\n",
    "print(\" Degrés de liberté :\", dof)\n",
    "print(\"\\n Tableau des valeurs attendues :\\n\", pd.DataFrame(expected, columns=[\"Coaché\", \"Pas coaché\"], index=[\"Joué\", \"Pas joué\"]))"
   ]
  },
  {
   "cell_type": "markdown",
   "id": "17cff4a6-d3b4-4dfe-b57d-c9cc8e893c1e",
   "metadata": {
    "execution": {
     "iopub.execute_input": "2025-06-24T10:57:55.920593Z",
     "iopub.status.busy": "2025-06-24T10:57:55.918348Z",
     "iopub.status.idle": "2025-06-24T10:57:55.939202Z",
     "shell.execute_reply": "2025-06-24T10:57:55.936191Z",
     "shell.execute_reply.started": "2025-06-24T10:57:55.920496Z"
    }
   },
   "source": [
    "### Test du Chi²\n",
    "\n",
    "Nous avons appliqué un test du Chi² pour évaluer l’indépendance entre les deux variables suivantes :\n",
    "\n",
    "- **A joué dans le club** (oui/non)\n",
    "- **A coaché le club** (oui/non)\n",
    "\n",
    "#### Résultats du test :\n",
    "\n",
    "- **Statistique du test :** 142.81\n",
    "- **p-value :** < 0.0001\n",
    "- **Degrés de liberté :** 1\n",
    "\n",
    "#### Interprétation :\n",
    "\n",
    "La p-value extrêmement faible (< 0.0001) indique que nous pouvons **rejeter l’hypothèse d’indépendance** entre le fait d’avoir joué dans un club et celui de l’avoir entraîné.\n",
    "\n",
    "Autrement dit, **les coachs sont significativement plus susceptibles de devenir entraîneurs dans un club où ils ont déjà joué.**\n",
    "\n",
    " **Limites de l’analyse :**\n",
    "- Nous ne considérons ici que les coachs de clubs de Serie A en 2024-2025\n",
    "- Nous n’avons pas de données complètes sur les joueurs **qui n’ont jamais entraîné**\n",
    "- Ce résultat montre une corrélation, **pas une causalité**\n"
   ]
  },
  {
   "cell_type": "code",
   "execution_count": null,
   "id": "5d3958bd-e015-4329-9b81-1184975051a0",
   "metadata": {},
   "outputs": [],
   "source": []
  }
 ],
 "metadata": {
  "kernelspec": {
   "display_name": "Python3",
   "language": "python",
   "name": "python3"
  },
  "language_info": {
   "codemirror_mode": {
    "name": "ipython",
    "version": 3
   },
   "file_extension": ".py",
   "mimetype": "text/x-python",
   "name": "python",
   "nbconvert_exporter": "python",
   "pygments_lexer": "ipython3",
   "version": "3.12.5"
  }
 },
 "nbformat": 4,
 "nbformat_minor": 5
}
