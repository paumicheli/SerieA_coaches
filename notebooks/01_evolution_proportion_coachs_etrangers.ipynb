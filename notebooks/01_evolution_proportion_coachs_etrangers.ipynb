{
 "cells": [
  {
   "cell_type": "markdown",
   "id": "8ea8b065-d4eb-4290-98f3-ee77fafc27a1",
   "metadata": {},
   "source": [
    "# Évolution de la proportion de coachs étrangers en Serie A (depuis xxxx)\n",
    "\n",
    "Ce notebook analyse l’évolution de la proportion de coachs étrangers en Serie A, à partir des données extraites de Wikidata.\n",
    "\n",
    "Les coachs sont considérés comme \"Italiens\" si l’une de leurs nationalités est l’Italie, et \"Étrangers\" sinon. L’analyse se base sur les mandats réalisés dans des clubs italiens, identifiés à partir de la propriété `League = Italy`.\n"
   ]
  },
  {
   "cell_type": "markdown",
   "id": "fac0e7ed-fbc7-4162-964f-8a022e4709bd",
   "metadata": {},
   "source": [
    "## Requête SQL utilisée dans SQLiteStudio\n",
    "\n",
    "```sql\n",
    "SELECT\n",
    "    m.coach_qid,\n",
    "    m.startDate,\n",
    "    m.endDate,\n",
    "    CASE\n",
    "        WHEN c.nationality = 'Italy' OR c.nationality2 = 'Italy' THEN 'Italian'\n",
    "        ELSE 'Foreign'\n",
    "    END AS origin,\n",
    "    t.League\n",
    "FROM mandates m\n",
    "JOIN coaches c ON m.coach_qid = c.wikidata_id\n",
    "JOIN teams t ON m.team_qid = t.Qid\n",
    "WHERE m.startDate IS NOT NULL\n",
    "  AND TRIM(m.startDate) <> ''\n",
    "  AND t.League = 'Italy'\n"
   ]
  },
  {
   "cell_type": "markdown",
   "id": "a9873c8a-0ae1-4c6b-b1e5-166d2563d14f",
   "metadata": {},
   "source": [
    "## Chargement des données"
   ]
  },
  {
   "cell_type": "code",
   "execution_count": 2,
   "id": "baf15c15-e85a-4801-84c2-9a9c8e5b0ec3",
   "metadata": {
    "execution": {
     "iopub.execute_input": "2025-06-24T11:47:14.367161Z",
     "iopub.status.busy": "2025-06-24T11:47:14.366027Z",
     "iopub.status.idle": "2025-06-24T11:47:15.204097Z",
     "shell.execute_reply": "2025-06-24T11:47:15.203106Z",
     "shell.execute_reply.started": "2025-06-24T11:47:14.367001Z"
    }
   },
   "outputs": [
    {
     "data": {
      "text/html": [
       "<div>\n",
       "<style scoped>\n",
       "    .dataframe tbody tr th:only-of-type {\n",
       "        vertical-align: middle;\n",
       "    }\n",
       "\n",
       "    .dataframe tbody tr th {\n",
       "        vertical-align: top;\n",
       "    }\n",
       "\n",
       "    .dataframe thead th {\n",
       "        text-align: right;\n",
       "    }\n",
       "</style>\n",
       "<table border=\"1\" class=\"dataframe\">\n",
       "  <thead>\n",
       "    <tr style=\"text-align: right;\">\n",
       "      <th></th>\n",
       "      <th>coach_qid</th>\n",
       "      <th>startDate</th>\n",
       "      <th>endDate</th>\n",
       "      <th>origin</th>\n",
       "      <th>League</th>\n",
       "    </tr>\n",
       "  </thead>\n",
       "  <tbody>\n",
       "    <tr>\n",
       "      <th>0</th>\n",
       "      <td>Q174614</td>\n",
       "      <td>1999-02-01T00:00:00Z</td>\n",
       "      <td>2001-06-17T00:00:00Z</td>\n",
       "      <td>Italian</td>\n",
       "      <td>Italy</td>\n",
       "    </tr>\n",
       "    <tr>\n",
       "      <th>1</th>\n",
       "      <td>Q180661</td>\n",
       "      <td>1988-01-01T00:00:00Z</td>\n",
       "      <td>1990-01-01T00:00:00Z</td>\n",
       "      <td>Italian</td>\n",
       "      <td>Italy</td>\n",
       "    </tr>\n",
       "    <tr>\n",
       "      <th>2</th>\n",
       "      <td>Q183108</td>\n",
       "      <td>2004-05-29T00:00:00Z</td>\n",
       "      <td>2006-07-04T00:00:00Z</td>\n",
       "      <td>Italian</td>\n",
       "      <td>Italy</td>\n",
       "    </tr>\n",
       "    <tr>\n",
       "      <th>3</th>\n",
       "      <td>Q191885</td>\n",
       "      <td>2024-07-01T00:00:00Z</td>\n",
       "      <td>2025-03-23T00:00:00Z</td>\n",
       "      <td>Italian</td>\n",
       "      <td>Italy</td>\n",
       "    </tr>\n",
       "    <tr>\n",
       "      <th>4</th>\n",
       "      <td>Q235068</td>\n",
       "      <td>2007-07-01T00:00:00Z</td>\n",
       "      <td>2009-05-18T00:00:00Z</td>\n",
       "      <td>Italian</td>\n",
       "      <td>Italy</td>\n",
       "    </tr>\n",
       "  </tbody>\n",
       "</table>\n",
       "</div>"
      ],
      "text/plain": [
       "  coach_qid             startDate               endDate   origin League\n",
       "0   Q174614  1999-02-01T00:00:00Z  2001-06-17T00:00:00Z  Italian  Italy\n",
       "1   Q180661  1988-01-01T00:00:00Z  1990-01-01T00:00:00Z  Italian  Italy\n",
       "2   Q183108  2004-05-29T00:00:00Z  2006-07-04T00:00:00Z  Italian  Italy\n",
       "3   Q191885  2024-07-01T00:00:00Z  2025-03-23T00:00:00Z  Italian  Italy\n",
       "4   Q235068  2007-07-01T00:00:00Z  2009-05-18T00:00:00Z  Italian  Italy"
      ]
     },
     "execution_count": 2,
     "metadata": {},
     "output_type": "execute_result"
    }
   ],
   "source": [
    "import pandas as pd\n",
    "\n",
    "df = pd.read_csv(\"mandats_italiens_avec_origin.csv\")\n",
    "\n",
    "df.head()\n"
   ]
  },
  {
   "cell_type": "markdown",
   "id": "8b135281-1215-4593-9c25-fa7733b1c660",
   "metadata": {},
   "source": [
    "## Conversion des colonnes de dates\n",
    "\n",
    "Les colonnes `startDate` et `endDate` sont initialement extraites de Wikidata au format texte ISO 8601, nous les convertissons en **objets datetime** exploitables avec Pandas à l’aide de :\n",
    "\n",
    "pd.to_datetime(colonne, errors=\"coerce\", utc=True)\n"
   ]
  },
  {
   "cell_type": "code",
   "execution_count": 3,
   "id": "6c242187-90d1-465c-8cc5-de966d43a21e",
   "metadata": {
    "execution": {
     "iopub.execute_input": "2025-06-24T11:47:15.854438Z",
     "iopub.status.busy": "2025-06-24T11:47:15.851863Z",
     "iopub.status.idle": "2025-06-24T11:47:15.885525Z",
     "shell.execute_reply": "2025-06-24T11:47:15.883493Z",
     "shell.execute_reply.started": "2025-06-24T11:47:15.854345Z"
    }
   },
   "outputs": [],
   "source": [
    "# Conversion du format\n",
    "df[\"startDate\"] = pd.to_datetime(df[\"startDate\"], errors=\"coerce\", utc=True)\n",
    "df[\"endDate\"] = pd.to_datetime(df[\"endDate\"], errors=\"coerce\", utc=True)\n",
    "\n",
    "# Si endDate est manquante\n",
    "df[\"endDate\"] = df[\"endDate\"].fillna(pd.Timestamp(\"2024-12-31\", tz=\"UTC\"))\n"
   ]
  },
  {
   "cell_type": "code",
   "execution_count": 4,
   "id": "1feef7fb-b783-486f-baf7-b2f100f08758",
   "metadata": {
    "execution": {
     "iopub.execute_input": "2025-06-24T11:47:16.539465Z",
     "iopub.status.busy": "2025-06-24T11:47:16.538436Z",
     "iopub.status.idle": "2025-06-24T11:47:16.595612Z",
     "shell.execute_reply": "2025-06-24T11:47:16.593750Z",
     "shell.execute_reply.started": "2025-06-24T11:47:16.539381Z"
    }
   },
   "outputs": [
    {
     "data": {
      "text/html": [
       "<div>\n",
       "<style scoped>\n",
       "    .dataframe tbody tr th:only-of-type {\n",
       "        vertical-align: middle;\n",
       "    }\n",
       "\n",
       "    .dataframe tbody tr th {\n",
       "        vertical-align: top;\n",
       "    }\n",
       "\n",
       "    .dataframe thead th {\n",
       "        text-align: right;\n",
       "    }\n",
       "</style>\n",
       "<table border=\"1\" class=\"dataframe\">\n",
       "  <thead>\n",
       "    <tr style=\"text-align: right;\">\n",
       "      <th></th>\n",
       "      <th>coach_qid</th>\n",
       "      <th>startDate</th>\n",
       "      <th>endDate</th>\n",
       "      <th>origin</th>\n",
       "      <th>League</th>\n",
       "      <th>year</th>\n",
       "    </tr>\n",
       "  </thead>\n",
       "  <tbody>\n",
       "    <tr>\n",
       "      <th>0</th>\n",
       "      <td>Q174614</td>\n",
       "      <td>1999-02-01 00:00:00+00:00</td>\n",
       "      <td>2001-06-17 00:00:00+00:00</td>\n",
       "      <td>Italian</td>\n",
       "      <td>Italy</td>\n",
       "      <td>1999</td>\n",
       "    </tr>\n",
       "    <tr>\n",
       "      <th>0</th>\n",
       "      <td>Q174614</td>\n",
       "      <td>1999-02-01 00:00:00+00:00</td>\n",
       "      <td>2001-06-17 00:00:00+00:00</td>\n",
       "      <td>Italian</td>\n",
       "      <td>Italy</td>\n",
       "      <td>2000</td>\n",
       "    </tr>\n",
       "    <tr>\n",
       "      <th>0</th>\n",
       "      <td>Q174614</td>\n",
       "      <td>1999-02-01 00:00:00+00:00</td>\n",
       "      <td>2001-06-17 00:00:00+00:00</td>\n",
       "      <td>Italian</td>\n",
       "      <td>Italy</td>\n",
       "      <td>2001</td>\n",
       "    </tr>\n",
       "    <tr>\n",
       "      <th>1</th>\n",
       "      <td>Q180661</td>\n",
       "      <td>1988-01-01 00:00:00+00:00</td>\n",
       "      <td>1990-01-01 00:00:00+00:00</td>\n",
       "      <td>Italian</td>\n",
       "      <td>Italy</td>\n",
       "      <td>1988</td>\n",
       "    </tr>\n",
       "    <tr>\n",
       "      <th>1</th>\n",
       "      <td>Q180661</td>\n",
       "      <td>1988-01-01 00:00:00+00:00</td>\n",
       "      <td>1990-01-01 00:00:00+00:00</td>\n",
       "      <td>Italian</td>\n",
       "      <td>Italy</td>\n",
       "      <td>1989</td>\n",
       "    </tr>\n",
       "  </tbody>\n",
       "</table>\n",
       "</div>"
      ],
      "text/plain": [
       "  coach_qid                 startDate                   endDate   origin  \\\n",
       "0   Q174614 1999-02-01 00:00:00+00:00 2001-06-17 00:00:00+00:00  Italian   \n",
       "0   Q174614 1999-02-01 00:00:00+00:00 2001-06-17 00:00:00+00:00  Italian   \n",
       "0   Q174614 1999-02-01 00:00:00+00:00 2001-06-17 00:00:00+00:00  Italian   \n",
       "1   Q180661 1988-01-01 00:00:00+00:00 1990-01-01 00:00:00+00:00  Italian   \n",
       "1   Q180661 1988-01-01 00:00:00+00:00 1990-01-01 00:00:00+00:00  Italian   \n",
       "\n",
       "  League  year  \n",
       "0  Italy  1999  \n",
       "0  Italy  2000  \n",
       "0  Italy  2001  \n",
       "1  Italy  1988  \n",
       "1  Italy  1989  "
      ]
     },
     "execution_count": 4,
     "metadata": {},
     "output_type": "execute_result"
    }
   ],
   "source": [
    "def expand_years(row):\n",
    "    start = row[\"startDate\"].year\n",
    "    end_date = row[\"endDate\"]\n",
    "\n",
    "    # Si le mandat finit le 1er janvier, on ne compte pas cette année\n",
    "    if end_date.month == 1 and end_date.day == 1:\n",
    "        end = end_date.year - 1\n",
    "    else:\n",
    "        end = end_date.year\n",
    "\n",
    "    if start > end:\n",
    "        return []\n",
    "    \n",
    "    return list(range(start, end + 1))\n",
    "\n",
    "# Appliquer la fonction à chaque ligne\n",
    "df[\"years_active\"] = df.apply(expand_years, axis=1)\n",
    "\n",
    "# années en lignes individuelles\n",
    "df_years = df.explode(\"years_active\")\n",
    "\n",
    "df_years = df_years.rename(columns={\"years_active\": \"year\"})\n",
    "\n",
    "# On garde les années à partir de XXXX \n",
    "df_years = df_years[df_years[\"year\"] >= 1983]\n",
    "\n",
    "df_years.head()\n",
    "\n"
   ]
  },
  {
   "cell_type": "code",
   "execution_count": 5,
   "id": "354ebb4a-3756-40f7-bab7-b7cd41de4267",
   "metadata": {
    "execution": {
     "iopub.execute_input": "2025-06-24T11:47:17.236043Z",
     "iopub.status.busy": "2025-06-24T11:47:17.233826Z",
     "iopub.status.idle": "2025-06-24T11:47:17.273036Z",
     "shell.execute_reply": "2025-06-24T11:47:17.270650Z",
     "shell.execute_reply.started": "2025-06-24T11:47:17.235950Z"
    }
   },
   "outputs": [
    {
     "data": {
      "text/html": [
       "<div>\n",
       "<style scoped>\n",
       "    .dataframe tbody tr th:only-of-type {\n",
       "        vertical-align: middle;\n",
       "    }\n",
       "\n",
       "    .dataframe tbody tr th {\n",
       "        vertical-align: top;\n",
       "    }\n",
       "\n",
       "    .dataframe thead th {\n",
       "        text-align: right;\n",
       "    }\n",
       "</style>\n",
       "<table border=\"1\" class=\"dataframe\">\n",
       "  <thead>\n",
       "    <tr style=\"text-align: right;\">\n",
       "      <th>origin</th>\n",
       "      <th>Foreign</th>\n",
       "      <th>Italian</th>\n",
       "      <th>Total</th>\n",
       "      <th>% Foreign</th>\n",
       "    </tr>\n",
       "    <tr>\n",
       "      <th>year</th>\n",
       "      <th></th>\n",
       "      <th></th>\n",
       "      <th></th>\n",
       "      <th></th>\n",
       "    </tr>\n",
       "  </thead>\n",
       "  <tbody>\n",
       "    <tr>\n",
       "      <th>1983</th>\n",
       "      <td>1</td>\n",
       "      <td>19</td>\n",
       "      <td>20</td>\n",
       "      <td>5.0</td>\n",
       "    </tr>\n",
       "    <tr>\n",
       "      <th>1984</th>\n",
       "      <td>3</td>\n",
       "      <td>21</td>\n",
       "      <td>24</td>\n",
       "      <td>12.5</td>\n",
       "    </tr>\n",
       "    <tr>\n",
       "      <th>1985</th>\n",
       "      <td>2</td>\n",
       "      <td>19</td>\n",
       "      <td>21</td>\n",
       "      <td>9.5</td>\n",
       "    </tr>\n",
       "    <tr>\n",
       "      <th>1986</th>\n",
       "      <td>3</td>\n",
       "      <td>21</td>\n",
       "      <td>24</td>\n",
       "      <td>12.5</td>\n",
       "    </tr>\n",
       "    <tr>\n",
       "      <th>1987</th>\n",
       "      <td>4</td>\n",
       "      <td>22</td>\n",
       "      <td>26</td>\n",
       "      <td>15.4</td>\n",
       "    </tr>\n",
       "  </tbody>\n",
       "</table>\n",
       "</div>"
      ],
      "text/plain": [
       "origin  Foreign  Italian  Total  % Foreign\n",
       "year                                      \n",
       "1983          1       19     20        5.0\n",
       "1984          3       21     24       12.5\n",
       "1985          2       19     21        9.5\n",
       "1986          3       21     24       12.5\n",
       "1987          4       22     26       15.4"
      ]
     },
     "execution_count": 5,
     "metadata": {},
     "output_type": "execute_result"
    }
   ],
   "source": [
    "# Comptage italien / étranger par année\n",
    "summary = df_years.groupby([\"year\", \"origin\"]).size().unstack(fill_value=0)\n",
    "\n",
    "# Ajouter une colonne Total et pourcentage d'étrangers\n",
    "summary[\"Total\"] = summary.sum(axis=1)\n",
    "summary[\"% Foreign\"] = round((summary.get(\"Foreign\", 0) / summary[\"Total\"]) * 100, 1)\n",
    "\n",
    "\n",
    "summary.head()\n"
   ]
  },
  {
   "cell_type": "code",
   "execution_count": 6,
   "id": "0f77d0b0-0b1e-4328-97af-db365450962d",
   "metadata": {
    "execution": {
     "iopub.execute_input": "2025-06-24T11:47:18.084530Z",
     "iopub.status.busy": "2025-06-24T11:47:18.082222Z",
     "iopub.status.idle": "2025-06-24T11:47:19.035005Z",
     "shell.execute_reply": "2025-06-24T11:47:19.031709Z",
     "shell.execute_reply.started": "2025-06-24T11:47:18.084429Z"
    }
   },
   "outputs": [
    {
     "data": {
      "image/png": "[encoded data removed]",
      "text/plain": [
       "<Figure size 1000x500 with 1 Axes>"
      ]
     },
     "metadata": {},
     "output_type": "display_data"
    }
   ],
   "source": [
    "import matplotlib.pyplot as plt\n",
    "\n",
    "# Tracé de l'évolution de la proportion de coachs étrangers\n",
    "plt.figure(figsize=(10, 5))\n",
    "plt.plot(summary.index, summary[\"% Foreign\"], marker='o', linewidth=2)\n",
    "\n",
    "plt.title(\"Évolution de la proportion de coachs étrangers en Serie A\")\n",
    "plt.xlabel(\"Année\")\n",
    "plt.ylabel(\"Pourcentage de coachs étrangers\")\n",
    "plt.grid(True)\n",
    "plt.tight_layout()\n",
    "plt.show()\n"
   ]
  }
 ],
 "metadata": {
  "kernelspec": {
   "display_name": "Python3",
   "language": "python",
   "name": "python3"
  },
  "language_info": {
   "codemirror_mode": {
    "name": "ipython",
    "version": 3
   },
   "file_extension": ".py",
   "mimetype": "text/x-python",
   "name": "python",
   "nbconvert_exporter": "python",
   "pygments_lexer": "ipython3",
   "version": "3.12.5"
  }
 },
 "nbformat": 4,
 "nbformat_minor": 5
}
